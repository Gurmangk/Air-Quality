{
 "cells": [
  {
   "cell_type": "code",
   "execution_count": 1,
   "metadata": {},
   "outputs": [],
   "source": [
    "import pandas as pd\n",
    "import numpy as np\n",
    "import matplotlib.pyplot as plt\n",
    "from sklearn.linear_model import LinearRegression"
   ]
  },
  {
   "cell_type": "code",
   "execution_count": 2,
   "metadata": {},
   "outputs": [],
   "source": [
    "f1 = 'Train.csv'\n",
    "f2 = 'Test.csv'"
   ]
  },
  {
   "cell_type": "code",
   "execution_count": 3,
   "metadata": {},
   "outputs": [],
   "source": [
    "df = pd.read_csv(f1, delimiter= ',')"
   ]
  },
  {
   "cell_type": "code",
   "execution_count": 4,
   "metadata": {},
   "outputs": [],
   "source": [
    "X_train = df.iloc[:,0:5].values\n",
    "\n",
    "Y_train = df.iloc[:,-1].values"
   ]
  },
  {
   "cell_type": "code",
   "execution_count": 5,
   "metadata": {},
   "outputs": [],
   "source": [
    "dt = pd.read_csv(f2, delimiter = ',')\n",
    "\n",
    "X_test = dt.iloc[:,0:5].values\n"
   ]
  },
  {
   "cell_type": "code",
   "execution_count": 6,
   "metadata": {},
   "outputs": [
    {
     "data": {
      "text/plain": [
       "LinearRegression(copy_X=True, fit_intercept=True, n_jobs=None, normalize=True)"
      ]
     },
     "execution_count": 6,
     "metadata": {},
     "output_type": "execute_result"
    }
   ],
   "source": [
    "lr = LinearRegression(normalize = True)\n",
    "lr.fit(X_train, Y_train)\n"
   ]
  },
  {
   "cell_type": "code",
   "execution_count": 7,
   "metadata": {},
   "outputs": [
    {
     "name": "stdout",
     "output_type": "stream",
     "text": [
      "[29.68187118 92.66247759  8.28062089 44.76773522  2.51916121]\n",
      "4.990966735574963\n"
     ]
    }
   ],
   "source": [
    "print(lr.coef_)\n",
    "print(lr.intercept_)"
   ]
  },
  {
   "cell_type": "code",
   "execution_count": 8,
   "metadata": {},
   "outputs": [
    {
     "data": {
      "text/plain": [
       "0.9660939669975616"
      ]
     },
     "execution_count": 8,
     "metadata": {},
     "output_type": "execute_result"
    }
   ],
   "source": [
    "lr.score(X_train, Y_train)"
   ]
  },
  {
   "cell_type": "code",
   "execution_count": 9,
   "metadata": {},
   "outputs": [],
   "source": [
    "y_pred = lr.predict(X_test)"
   ]
  },
  {
   "cell_type": "code",
   "execution_count": 10,
   "metadata": {},
   "outputs": [],
   "source": [
    "l = []\n",
    "lt = len(y_pred)\n",
    "for i in range(lt):\n",
    "    l.append(i)\n",
    "    "
   ]
  },
  {
   "cell_type": "code",
   "execution_count": 11,
   "metadata": {},
   "outputs": [],
   "source": [
    "y_pred = y_pred.reshape((-1,1))"
   ]
  },
  {
   "cell_type": "code",
   "execution_count": 12,
   "metadata": {},
   "outputs": [],
   "source": [
    "ds = pd.DataFrame(data = l, columns = ['Id'])"
   ]
  },
  {
   "cell_type": "code",
   "execution_count": null,
   "metadata": {},
   "outputs": [],
   "source": []
  },
  {
   "cell_type": "code",
   "execution_count": 13,
   "metadata": {},
   "outputs": [],
   "source": [
    "ds['target'] = y_pred"
   ]
  },
  {
   "cell_type": "code",
   "execution_count": 14,
   "metadata": {},
   "outputs": [
    {
     "name": "stdout",
     "output_type": "stream",
     "text": [
      "      Id      target\n",
      "0      0  114.583689\n",
      "1      1  118.012815\n",
      "2      2  -21.739852\n",
      "3      3  -43.936899\n",
      "4      4  -95.914898\n",
      "5      5  -44.507424\n",
      "6      6  -75.566526\n",
      "7      7   23.820835\n",
      "8      8  173.835284\n",
      "9      9  172.849290\n",
      "10    10 -105.402312\n",
      "11    11  -20.802023\n",
      "12    12   -3.913238\n",
      "13    13  122.999186\n",
      "14    14   40.307884\n",
      "15    15   45.712850\n",
      "16    16 -189.628491\n",
      "17    17   22.612545\n",
      "18    18   11.641047\n",
      "19    19  136.342143\n",
      "20    20   64.916255\n",
      "21    21  -61.988488\n",
      "22    22 -108.194679\n",
      "23    23   -7.412127\n",
      "24    24  -58.523953\n",
      "25    25   11.888978\n",
      "26    26   29.237640\n",
      "27    27  107.687579\n",
      "28    28   24.146856\n",
      "29    29  -26.105012\n",
      "..   ...         ...\n",
      "370  370 -137.921702\n",
      "371  371  -50.514772\n",
      "372  372  -93.679380\n",
      "373  373    8.816282\n",
      "374  374  -14.604027\n",
      "375  375  -62.851997\n",
      "376  376  -16.465554\n",
      "377  377 -172.962640\n",
      "378  378 -122.791775\n",
      "379  379   45.273898\n",
      "380  380  -37.309931\n",
      "381  381 -157.438494\n",
      "382  382   87.498386\n",
      "383  383   -0.320726\n",
      "384  384  133.257842\n",
      "385  385  -47.172209\n",
      "386  386    2.574661\n",
      "387  387  174.227519\n",
      "388  388  170.930081\n",
      "389  389   46.433357\n",
      "390  390  -26.720651\n",
      "391  391   59.632252\n",
      "392  392  111.659113\n",
      "393  393  -36.502767\n",
      "394  394  -69.139053\n",
      "395  395  -81.989000\n",
      "396  396 -186.032535\n",
      "397  397  125.292336\n",
      "398  398   65.369841\n",
      "399  399   57.059691\n",
      "\n",
      "[400 rows x 2 columns]\n"
     ]
    }
   ],
   "source": [
    "print(ds)"
   ]
  },
  {
   "cell_type": "code",
   "execution_count": 15,
   "metadata": {},
   "outputs": [],
   "source": [
    "ds.to_csv(\"Predictions.csv\", index = False)"
   ]
  },
  {
   "cell_type": "code",
   "execution_count": 16,
   "metadata": {},
   "outputs": [],
   "source": [
    "rd = pd.read_csv('Predictions.csv')\n"
   ]
  },
  {
   "cell_type": "code",
   "execution_count": 17,
   "metadata": {},
   "outputs": [
    {
     "name": "stdout",
     "output_type": "stream",
     "text": [
      "      Id      target\n",
      "0      0  114.583689\n",
      "1      1  118.012815\n",
      "2      2  -21.739852\n",
      "3      3  -43.936899\n",
      "4      4  -95.914898\n",
      "5      5  -44.507424\n",
      "6      6  -75.566526\n",
      "7      7   23.820835\n",
      "8      8  173.835284\n",
      "9      9  172.849290\n",
      "10    10 -105.402312\n",
      "11    11  -20.802023\n",
      "12    12   -3.913238\n",
      "13    13  122.999186\n",
      "14    14   40.307884\n",
      "15    15   45.712850\n",
      "16    16 -189.628491\n",
      "17    17   22.612545\n",
      "18    18   11.641047\n",
      "19    19  136.342143\n",
      "20    20   64.916255\n",
      "21    21  -61.988488\n",
      "22    22 -108.194679\n",
      "23    23   -7.412127\n",
      "24    24  -58.523953\n",
      "25    25   11.888978\n",
      "26    26   29.237640\n",
      "27    27  107.687579\n",
      "28    28   24.146856\n",
      "29    29  -26.105012\n",
      "..   ...         ...\n",
      "370  370 -137.921702\n",
      "371  371  -50.514772\n",
      "372  372  -93.679380\n",
      "373  373    8.816282\n",
      "374  374  -14.604027\n",
      "375  375  -62.851997\n",
      "376  376  -16.465554\n",
      "377  377 -172.962640\n",
      "378  378 -122.791775\n",
      "379  379   45.273898\n",
      "380  380  -37.309931\n",
      "381  381 -157.438494\n",
      "382  382   87.498386\n",
      "383  383   -0.320726\n",
      "384  384  133.257842\n",
      "385  385  -47.172209\n",
      "386  386    2.574661\n",
      "387  387  174.227519\n",
      "388  388  170.930081\n",
      "389  389   46.433357\n",
      "390  390  -26.720651\n",
      "391  391   59.632252\n",
      "392  392  111.659113\n",
      "393  393  -36.502767\n",
      "394  394  -69.139053\n",
      "395  395  -81.989000\n",
      "396  396 -186.032535\n",
      "397  397  125.292336\n",
      "398  398   65.369841\n",
      "399  399   57.059691\n",
      "\n",
      "[400 rows x 2 columns]\n"
     ]
    }
   ],
   "source": [
    "print(rd)"
   ]
  },
  {
   "cell_type": "code",
   "execution_count": null,
   "metadata": {},
   "outputs": [],
   "source": [
    "print()"
   ]
  }
 ],
 "metadata": {
  "kernelspec": {
   "display_name": "Python 3",
   "language": "python",
   "name": "python3"
  },
  "language_info": {
   "codemirror_mode": {
    "name": "ipython",
    "version": 3
   },
   "file_extension": ".py",
   "mimetype": "text/x-python",
   "name": "python",
   "nbconvert_exporter": "python",
   "pygments_lexer": "ipython3",
   "version": "3.7.4"
  }
 },
 "nbformat": 4,
 "nbformat_minor": 2
}
